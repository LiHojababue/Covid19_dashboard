{
  "nbformat": 4,
  "nbformat_minor": 0,
  "metadata": {
    "colab": {
      "name": "covid19_process.ipynb",
      "provenance": [],
      "collapsed_sections": []
    },
    "kernelspec": {
      "name": "python3",
      "display_name": "Python 3"
    }
  },
  "cells": [
    {
      "cell_type": "code",
      "metadata": {
        "id": "uTcxIHzNCZMd",
        "colab_type": "code",
        "colab": {
          "base_uri": "https://localhost:8080/",
          "height": 34
        },
        "outputId": "2a5c3b98-06d0-4dff-9c5e-b3b08c916623"
      },
      "source": [
        "!pip install pymysql"
      ],
      "execution_count": null,
      "outputs": [
        {
          "output_type": "stream",
          "text": [
            "Requirement already satisfied: pymysql in /usr/local/lib/python3.6/dist-packages (0.10.0)\n"
          ],
          "name": "stdout"
        }
      ]
    },
    {
      "cell_type": "code",
      "metadata": {
        "id": "4b94E2y2KzM9",
        "colab_type": "code",
        "colab": {}
      },
      "source": [
        "import urllib \n",
        "from datetime import date \n",
        "from datetime import timedelta \n",
        "from datetime import datetime \n",
        "import numpy as np \n",
        "import pandas as pd \n",
        "import pymysql\n",
        "from sqlalchemy import create_engine"
      ],
      "execution_count": null,
      "outputs": []
    },
    {
      "cell_type": "code",
      "metadata": {
        "id": "grF3DweNOajI",
        "colab_type": "code",
        "colab": {
          "base_uri": "https://localhost:8080/",
          "height": 67
        },
        "outputId": "2c113771-9035-4b19-fca0-5ab7b9a15e87"
      },
      "source": [
        "## READ DATA\n",
        "\n",
        "# UID_ISO_FIPS_LookUp_Table\n",
        "csv_url = \"https://raw.githubusercontent.com/CSSEGISandData/COVID-19/master/csse_covid_19_data/UID_ISO_FIPS_LookUp_Table.csv\"\n",
        "UID_ISO_FIPS_LookUp_Table = pd.read_csv(csv_url)\n",
        "\n",
        "# time_series_covid19_confirmed_global\n",
        "csv_url = \"https://raw.githubusercontent.com/CSSEGISandData/COVID-19/master/csse_covid_19_data/csse_covid_19_time_series/time_series_covid19_confirmed_global.csv\"\n",
        "time_series_covid19_confirmed_global = pd.read_csv(csv_url)\n",
        "\n",
        "# time_series_covid19_deaths_global\n",
        "csv_url = \"https://raw.githubusercontent.com/CSSEGISandData/COVID-19/master/csse_covid_19_data/csse_covid_19_time_series/time_series_covid19_deaths_global.csv\"\n",
        "time_series_covid19_deaths_global = pd.read_csv(csv_url)\n",
        "\n",
        "# time_series_covid19_recovered_global\n",
        "csv_url = \"https://raw.githubusercontent.com/CSSEGISandData/COVID-19/master/csse_covid_19_data/csse_covid_19_time_series/time_series_covid19_recovered_global.csv\"\n",
        "time_series_covid19_recovered_global = pd.read_csv(csv_url)\n",
        "\n",
        "# time_series_covid19_confirmed_US\n",
        "csv_url = \"https://raw.githubusercontent.com/CSSEGISandData/COVID-19/master/csse_covid_19_data/csse_covid_19_time_series/time_series_covid19_confirmed_US.csv\"\n",
        "time_series_covid19_confirmed_US = pd.read_csv(csv_url)\n",
        "\n",
        "# time_series_covid19_deaths_US\n",
        "csv_url = \"https://raw.githubusercontent.com/CSSEGISandData/COVID-19/master/csse_covid_19_data/csse_covid_19_time_series/time_series_covid19_deaths_US.csv\"\n",
        "time_series_covid19_deaths_US = pd.read_csv(csv_url)\n",
        "\n",
        "# daily_reports\n",
        "today = date.today()\n",
        "today_str = today.strftime('%m-%d-%Y')\n",
        "day_delta = timedelta(days=1)\n",
        "while True:\n",
        "    try:\n",
        "        csv_url = \"https://raw.githubusercontent.com/CSSEGISandData/COVID-19/master/csse_covid_19_data/csse_covid_19_daily_reports/{}.csv\"\n",
        "        csv_url = csv_url.format(today_str)\n",
        "        daily_report = pd.read_csv(csv_url)\n",
        "        print(\"Daily report for {} is available.\".format(today_str))\n",
        "        break\n",
        "    except urllib.error.HTTPError:\n",
        "        print(\"Daily report for {} is still unavailable.\".format(today_str))\n",
        "        today -= day_delta\n",
        "        today_str = today.strftime('%m-%d-%Y')\n",
        "        print(\"Now we'll try {}.\".format(today_str))"
      ],
      "execution_count": null,
      "outputs": [
        {
          "output_type": "stream",
          "text": [
            "Daily report for 07-26-2020 is still unavailable.\n",
            "Now we'll try 07-25-2020.\n",
            "Daily report for 07-25-2020 is available.\n"
          ],
          "name": "stdout"
        }
      ]
    },
    {
      "cell_type": "code",
      "metadata": {
        "id": "pOgYFCEVQY67",
        "colab_type": "code",
        "colab": {}
      },
      "source": [
        "# Conditionals\n",
        "admin2_is_not_null = pd.notnull(daily_report['Admin2'])\n",
        "admin2_is_null = pd.isnull(daily_report['Admin2'])\n",
        "province_state_is_not_null = pd.notnull(daily_report['Province_State'])\n",
        "province_state_is_null = pd.isnull(daily_report['Province_State'])\n",
        "\n",
        "# Admin2 is not null\n",
        "daily_report_admin2 = daily_report[admin2_is_not_null]\n",
        "\n",
        "# Admin2 is null and Province_State is not null\n",
        "daily_report_province_state = daily_report[admin2_is_null & province_state_is_not_null]\n",
        "\n",
        "# Admin2 is null and Province_State is null\n",
        "daily_report_country_region = daily_report[admin2_is_null & province_state_is_null]"
      ],
      "execution_count": null,
      "outputs": []
    },
    {
      "cell_type": "code",
      "metadata": {
        "id": "XRfxZnYlTzJ-",
        "colab_type": "code",
        "colab": {}
      },
      "source": [
        "##Data Transposition for global data\n",
        "\n",
        "#confirmed_global\n",
        "idVars = ['Province/State', 'Country/Region', 'Lat', 'Long']\n",
        "time_series_covid19_confirmed_global_long = pd.melt(time_series_covid19_confirmed_global, id_vars=idVars, var_name='Date', value_name='Case')\n",
        "time_series_covid19_confirmed_global_long.insert(0, 'CaseType', 'confirmed')\n",
        "\n",
        "#deaths_global\n",
        "time_series_covid19_deaths_global_long = pd.melt(time_series_covid19_deaths_global, id_vars=idVars, var_name='Date', value_name='Case')\n",
        "time_series_covid19_deaths_global_long.insert(0, 'CaseType', 'deaths')\n",
        "\n",
        "#recovered_global\n",
        "time_series_covid19_recovered_global_long = pd.melt(time_series_covid19_recovered_global, id_vars=idVars, var_name='Date', value_name='Case')\n",
        "time_series_covid19_recovered_global_long.insert(0, 'CaseType', 'recovered')\n",
        "\n",
        "#combined\n",
        "time_series_covid19_global_long = pd.concat([time_series_covid19_confirmed_global_long, time_series_covid19_deaths_global_long, time_series_covid19_recovered_global_long])\n",
        "time_series_covid19_global_long = time_series_covid19_global_long.reset_index(drop=True)"
      ],
      "execution_count": null,
      "outputs": []
    },
    {
      "cell_type": "code",
      "metadata": {
        "id": "cu4AwSskVYBH",
        "colab_type": "code",
        "colab": {}
      },
      "source": [
        "##Data Transposition for US data\n",
        "\n",
        "#confirmed_US\n",
        "idVars = ['UID', 'iso2', 'iso3', 'code3', 'FIPS', 'Admin2', 'Province_State', 'Country_Region', 'Lat', 'Long_', 'Combined_Key']\n",
        "time_series_covid19_confirmed_US_long = pd.melt(time_series_covid19_confirmed_US, id_vars=idVars, var_name='Date', value_name='Case')\n",
        "time_series_covid19_confirmed_US_long.insert(0, 'CaseType', 'confirmed')\n",
        "\n",
        "#deaths_US\n",
        "time_series_covid19_deaths_US = time_series_covid19_deaths_US.drop(labels='Population', axis=1)\n",
        "idVars = ['UID', 'iso2', 'iso3', 'code3', 'FIPS', 'Admin2', 'Province_State', 'Country_Region', 'Lat', 'Long_', 'Combined_Key']\n",
        "time_series_covid19_deaths_US_long = pd.melt(time_series_covid19_deaths_US, id_vars=idVars, var_name='Date', value_name='Case')\n",
        "time_series_covid19_deaths_US_long.insert(0, 'CaseType', 'deaths')\n",
        "\n",
        "#combined\n",
        "time_series_covid19_US_long = pd.concat([time_series_covid19_confirmed_US_long, time_series_covid19_deaths_US_long])"
      ],
      "execution_count": null,
      "outputs": []
    },
    {
      "cell_type": "code",
      "metadata": {
        "id": "IZmy_ocCWAna",
        "colab_type": "code",
        "colab": {}
      },
      "source": [
        "#Transform Date from str to date\n",
        "time_series_covid19_global_long = time_series_covid19_global_long.assign(Date=lambda x: pd.to_datetime(x.Date))\n",
        "time_series_covid19_US_long = time_series_covid19_US_long.assign(Date=lambda x: pd.to_datetime(x.Date))"
      ],
      "execution_count": null,
      "outputs": []
    },
    {
      "cell_type": "code",
      "metadata": {
        "id": "98wfB4_rWUKH",
        "colab_type": "code",
        "colab": {}
      },
      "source": [
        "#replace NA\n",
        "filled_province_state = [country if pd.isna(province) else province for country, province in zip(time_series_covid19_global_long['Country/Region'].values, time_series_covid19_global_long['Province/State'].values)]\n",
        "time_series_covid19_global_long = time_series_covid19_global_long.drop('Province/State', axis=1)\n",
        "time_series_covid19_global_long.insert(1, 'Province/State', filled_province_state)"
      ],
      "execution_count": null,
      "outputs": []
    },
    {
      "cell_type": "code",
      "metadata": {
        "id": "rarWGO-QXK6J",
        "colab_type": "code",
        "colab": {}
      },
      "source": [
        "# global time series data\n",
        "time_series_covid19_global_long = time_series_covid19_global_long.sort_values(['Province/State', 'Country/Region', 'CaseType', 'Date']).reset_index(drop=True)\n",
        "groupby_obj = time_series_covid19_global_long.groupby(['CaseType', 'Country/Region'])\n",
        "case_shifted = groupby_obj.shift(1)['Case'].values\n",
        "case_shifted = np.where(np.isnan(case_shifted), 0, case_shifted)\n",
        "daily_increase = time_series_covid19_global_long['Case'].values - case_shifted\n",
        "time_series_covid19_global_long['Daily_Increase'] = daily_increase"
      ],
      "execution_count": null,
      "outputs": []
    },
    {
      "cell_type": "code",
      "metadata": {
        "id": "-X5iiFY9YIEx",
        "colab_type": "code",
        "colab": {}
      },
      "source": [
        "# US time series data\n",
        "time_series_covid19_US_long = time_series_covid19_US_long.sort_values(['Admin2', 'Province_State', 'CaseType', 'Date']).reset_index(drop=True)\n",
        "groupby_obj = time_series_covid19_US_long.groupby(['CaseType', 'Combined_Key'])\n",
        "case_shifted = groupby_obj.shift(1)['Case'].values\n",
        "case_shifted = np.where(np.isnan(case_shifted), 0, case_shifted)\n",
        "daily_increase = time_series_covid19_US_long['Case'].values - case_shifted\n",
        "time_series_covid19_US_long['Daily_Increase'] = daily_increase"
      ],
      "execution_count": null,
      "outputs": []
    }
  ]
}