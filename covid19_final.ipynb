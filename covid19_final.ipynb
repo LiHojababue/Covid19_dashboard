{
  "nbformat": 4,
  "nbformat_minor": 0,
  "metadata": {
    "colab": {
      "name": "covid19.ipynb",
      "provenance": [],
      "collapsed_sections": []
    },
    "kernelspec": {
      "name": "python3",
      "display_name": "Python 3"
    }
  },
  "cells": [
    {
      "cell_type": "code",
      "metadata": {
        "id": "Q8U4j2IafOCv",
        "colab_type": "code",
        "colab": {}
      },
      "source": [
        "# Importing libraries/functions the project needs\n",
        "import urllib\n",
        "from datetime import date\n",
        "from datetime import timedelta\n",
        "from datetime import datetime\n",
        "import numpy as np\n",
        "import pandas as pd\n",
        "import pymysql\n",
        "from sqlalchemy import create_engine"
      ],
      "execution_count": null,
      "outputs": []
    },
    {
      "cell_type": "code",
      "metadata": {
        "id": "IJ-msLcFe47h",
        "colab_type": "code",
        "colab": {}
      },
      "source": [
        "def create_daily_report():\n",
        "    today = date.today()\n",
        "    today_str = today.strftime('%m-%d-%Y')\n",
        "    day_delta = timedelta(days=1)\n",
        "    while True:\n",
        "        try:\n",
        "            csv_url = \"https://raw.githubusercontent.com/CSSEGISandData/COVID-19/master/csse_covid_19_data/csse_covid_19_daily_reports/{}.csv\"\n",
        "            csv_url = csv_url.format(today_str)\n",
        "            daily_report = pd.read_csv(csv_url)\n",
        "            print(\"Daily report for {} is available.\".format(today_str))\n",
        "            break\n",
        "        except urllib.error.HTTPError:\n",
        "            print(\"Daily report for {} is still unavailable.\".format(today_str))\n",
        "            today -= day_delta\n",
        "            today_str = today.strftime('%m-%d-%Y')\n",
        "            print(\"Now we'll try {}.\".format(today_str))\n",
        "    return daily_report"
      ],
      "execution_count": null,
      "outputs": []
    },
    {
      "cell_type": "code",
      "metadata": {
        "id": "xmrnasMKfBcp",
        "colab_type": "code",
        "colab": {}
      },
      "source": [
        "def create_time_series_global():\n",
        "    case_types = ['confirmed', 'deaths', 'recovered']\n",
        "    idVars = ['Province/State', 'Country/Region', 'Lat', 'Long']\n",
        "    time_series_global = pd.DataFrame()\n",
        "    for case_type in case_types:\n",
        "        csv_url = \"https://raw.githubusercontent.com/CSSEGISandData/COVID-19/master/csse_covid_19_data/csse_covid_19_time_series/time_series_covid19_{}_global.csv\"\n",
        "        csv_url = csv_url.format(case_type)\n",
        "        time_series_covid19_global = pd.read_csv(csv_url)\n",
        "        time_series_covid19_global_long = pd.melt(time_series_covid19_global, id_vars=idVars, var_name='Date', value_name='Case')\n",
        "        time_series_covid19_global_long.insert(0, 'CaseType', case_type)\n",
        "        time_series_global = time_series_global.append(time_series_covid19_global_long)\n",
        "    time_series_global = time_series_global.assign(Date=lambda x: pd.to_datetime(x.Date))\n",
        "    filled_province_state = [country if pd.isna(province) else province for country, province in zip(time_series_global['Country/Region'].values, time_series_global['Province/State'].values)]\n",
        "    time_series_global = time_series_global.drop('Province/State', axis=1)\n",
        "    time_series_global.insert(1, 'Province/State', filled_province_state)\n",
        "    time_series_global = time_series_global.sort_values(['Province/State', 'Country/Region', 'CaseType', 'Date']).reset_index(drop=True)\n",
        "    groupby_obj = time_series_global.groupby(['CaseType', 'Country/Region', 'Province/State'])\n",
        "    case_shifted = groupby_obj.shift(1)['Case'].values\n",
        "    case_shifted = np.where(np.isnan(case_shifted), 0, case_shifted)\n",
        "    daily_increase = time_series_global['Case'].values - case_shifted\n",
        "    time_series_global['Daily_Increase'] = daily_increase\n",
        "    return time_series_global"
      ],
      "execution_count": null,
      "outputs": []
    },
    {
      "cell_type": "code",
      "metadata": {
        "id": "gL8yyfoifEHy",
        "colab_type": "code",
        "colab": {}
      },
      "source": [
        "def create_time_series_US():\n",
        "    case_types = ['confirmed', 'deaths']\n",
        "    idVars = idVars = ['UID', 'iso2', 'iso3', 'code3', 'FIPS', 'Admin2', 'Province_State', 'Country_Region', 'Lat', 'Long_', 'Combined_Key']\n",
        "    time_series_US = pd.DataFrame()\n",
        "    for case_type in case_types:\n",
        "        csv_url = \"https://raw.githubusercontent.com/CSSEGISandData/COVID-19/master/csse_covid_19_data/csse_covid_19_time_series/time_series_covid19_{}_US.csv\"\n",
        "        csv_url = csv_url.format(case_type)\n",
        "        time_series_covid19_US = pd.read_csv(csv_url)\n",
        "        if case_type == 'deaths':\n",
        "            time_series_covid19_US = time_series_covid19_US.drop(labels='Population', axis=1)\n",
        "        time_series_covid19_US_long = pd.melt(time_series_covid19_US, id_vars=idVars, var_name='Date', value_name='Case')\n",
        "        time_series_covid19_US_long.insert(0, 'CaseType', case_type)\n",
        "        time_series_US = time_series_US.append(time_series_covid19_US_long)\n",
        "    time_series_US = time_series_US.assign(Date=lambda x: pd.to_datetime(x.Date))\n",
        "    time_series_US = time_series_US.sort_values(['Admin2', 'Province_State', 'CaseType', 'Date']).reset_index(drop=True)\n",
        "    groupby_obj = time_series_US.groupby(['CaseType', 'Combined_Key'])\n",
        "    case_shifted = groupby_obj.shift(1)['Case'].values\n",
        "    case_shifted = np.where(np.isnan(case_shifted), 0, case_shifted)\n",
        "    daily_increase = time_series_US['Case'].values - case_shifted\n",
        "    time_series_US['Daily_Increase'] = daily_increase\n",
        "    return time_series_US"
      ],
      "execution_count": null,
      "outputs": []
    },
    {
      "cell_type": "code",
      "metadata": {
        "id": "HBTSjULNhmHs",
        "colab_type": "code",
        "colab": {}
      },
      "source": [
        "# UID_ISO_FIPS_LookUp_Table\n",
        "csv_url = \"https://raw.githubusercontent.com/CSSEGISandData/COVID-19/master/csse_covid_19_data/UID_ISO_FIPS_LookUp_Table.csv\"\n",
        "UID_ISO_FIPS_LookUp_Table = pd.read_csv(csv_url)"
      ],
      "execution_count": null,
      "outputs": []
    },
    {
      "cell_type": "code",
      "metadata": {
        "id": "eB11TSALfGBt",
        "colab_type": "code",
        "colab": {
          "base_uri": "https://localhost:8080/",
          "height": 67
        },
        "outputId": "f739501e-8478-426c-fbf7-4e502fe6bbf1"
      },
      "source": [
        "daily_report = create_daily_report()\n",
        "time_series_global = create_time_series_global()\n",
        "time_series_US = create_time_series_US()"
      ],
      "execution_count": null,
      "outputs": [
        {
          "output_type": "stream",
          "text": [
            "Daily report for 07-26-2020 is still unavailable.\n",
            "Now we'll try 07-25-2020.\n",
            "Daily report for 07-25-2020 is available.\n"
          ],
          "name": "stdout"
        }
      ]
    }
  ]
}